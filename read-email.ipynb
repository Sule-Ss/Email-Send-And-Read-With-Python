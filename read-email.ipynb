{
 "cells": [
  {
   "cell_type": "code",
   "execution_count": null,
   "id": "2d4b95b5-35c8-4935-b941-36b3823d9da2",
   "metadata": {},
   "outputs": [],
   "source": [
    "pip install imap_tools"
   ]
  },
  {
   "cell_type": "code",
   "execution_count": null,
   "id": "0294335c-16cf-4af9-b9af-e483e5481c9b",
   "metadata": {},
   "outputs": [],
   "source": [
    "from imap_tools import MailBox\n",
    "\n",
    "posta_kutusu = Mail.Box('imap.gmail.com')\n",
    "\n",
    "posta_kutusu.login(kullanici, sifre, initial_folder='INBOX')"
   ]
  },
  {
   "cell_type": "code",
   "execution_count": null,
   "id": "a508e2e4-7060-4ab8-bafa-7200863f9a2a",
   "metadata": {},
   "outputs": [],
   "source": [
    "import datetime\n",
    "from imap_tools import AND\n",
    "\n",
    "kriter = AND(date_gte = datetime.date(2021,1,1), from_=kullanici)\n",
    "for msg in posta_kutusu.fetch(kriter): # liste içindeki tü mesajları göster\n",
    "    print(msg.text)"
   ]
  },
  {
   "cell_type": "markdown",
   "id": "2ee2a9e6-061e-45c2-ac1b-e4589c59a452",
   "metadata": {},
   "source": [
    "###### https://github.com/ikvk/imap_tools/tree/master/examples"
   ]
  },
  {
   "cell_type": "code",
   "execution_count": null,
   "id": "5af0abef-d153-4454-bdae-f947fe1c90b0",
   "metadata": {},
   "outputs": [],
   "source": [
    "#2. yol:\n",
    "\n",
    "with MailBox('imap.gmail.com').login(kullanici, sifre, initial_folder='INBOX') as posta_kutusu:\n",
    "    kriter = AND(date_gte = datetime.date(2021,1,1), from_=kullanici)\n",
    "    for msg in posta_kutusu.fetch(kriter): # liste içindeki tü mesajları göster\n",
    "        print(msg.text)"
   ]
  },
  {
   "cell_type": "code",
   "execution_count": null,
   "id": "31b6b6fb-7377-41b9-91d3-d1da3e93637f",
   "metadata": {},
   "outputs": [],
   "source": [
    "dosya_ismi = 'eposta.ipynb'\n",
    "def dosya_isminden_mail_bul(eposta_kutusu_param, dosya_ismi_param, kriter_param):\n",
    "    for mesaj in eposta_kutusu_param.fetch(kriter):\n",
    "        if mesaj.attachments:\n",
    "            for ek in mesaj.atttachments:\n",
    "                if dosya_ismi_param == ek.filenames:\n",
    "                    return('{} isimli dosya, {} tarihli ve {} başlıklı epostadır.'.format(dosya_ismi_param, mesaj.date_str, mesaj.subject))\n",
    "                \n",
    "    return('{} isimli dosya eposta kutusunda bulunamadı.'.format(dosya_ismi_param))"
   ]
  },
  {
   "cell_type": "code",
   "execution_count": null,
   "id": "624cc9eb-9aa5-49dd-9dc4-bdd8aacc7d10",
   "metadata": {},
   "outputs": [],
   "source": [
    "dosya_isminden_mail.bul(posta_kutusu, dosya_ismi_param, kriter_param)"
   ]
  }
 ],
 "metadata": {
  "kernelspec": {
   "display_name": "Python 3.8.8 64-bit ('base': conda)",
   "language": "python",
   "name": "python388jvsc74a57bd037eb40c3388cfde35488e2d005b0d69ca91ddeff8a429754d4da636d3f888e5e"
  },
  "language_info": {
   "codemirror_mode": {
    "name": "ipython",
    "version": 3
   },
   "file_extension": ".py",
   "mimetype": "text/x-python",
   "name": "python",
   "nbconvert_exporter": "python",
   "pygments_lexer": "ipython3",
   "version": "3.8.8"
  }
 },
 "nbformat": 4,
 "nbformat_minor": 5
}
